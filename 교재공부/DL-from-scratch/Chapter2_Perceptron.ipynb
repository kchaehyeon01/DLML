{
  "nbformat": 4,
  "nbformat_minor": 0,
  "metadata": {
    "colab": {
      "name": "Chapter2_Perceptron.ipynb",
      "provenance": [],
      "collapsed_sections": [],
      "authorship_tag": "ABX9TyMlPboXV0UGb3BbjGkR1AoU",
      "include_colab_link": true
    },
    "kernelspec": {
      "name": "python3",
      "display_name": "Python 3"
    },
    "language_info": {
      "name": "python"
    }
  },
  "cells": [
    {
      "cell_type": "markdown",
      "metadata": {
        "id": "view-in-github",
        "colab_type": "text"
      },
      "source": [
        "<a href=\"https://colab.research.google.com/github/kchaehyeon01/DLML/blob/main/Chapter2_Perceptron.ipynb\" target=\"_parent\"><img src=\"https://colab.research.google.com/assets/colab-badge.svg\" alt=\"Open In Colab\"/></a>"
      ]
    },
    {
      "cell_type": "markdown",
      "source": [
        "# AND gate"
      ],
      "metadata": {
        "id": "0R_9BpSw1rCa"
      }
    },
    {
      "cell_type": "code",
      "execution_count": null,
      "metadata": {
        "id": "O3PufDkB0yVs"
      },
      "outputs": [],
      "source": [
        "def AND(x1,x2):\n",
        "  w1, w2, theta = 0.5, 0.5, 0.7\n",
        "  tmp = x1*w1 + x2*w2\n",
        "  if tmp > theta:\n",
        "    return 1\n",
        "  elif tmp <= theta:\n",
        "    return 0"
      ]
    },
    {
      "cell_type": "code",
      "source": [
        "print(AND(0,0))\n",
        "print(AND(1,0))\n",
        "print(AND(0,1))\n",
        "print(AND(1,1))"
      ],
      "metadata": {
        "colab": {
          "base_uri": "https://localhost:8080/"
        },
        "id": "HpC1MOks1QFr",
        "outputId": "6a45ac5a-6f39-402e-8c5b-92d9a5e10785"
      },
      "execution_count": null,
      "outputs": [
        {
          "output_type": "stream",
          "name": "stdout",
          "text": [
            "0\n",
            "0\n",
            "0\n",
            "1\n"
          ]
        }
      ]
    },
    {
      "cell_type": "markdown",
      "source": [
        "# 가중치와 편향 도입"
      ],
      "metadata": {
        "id": "hJ28mjN61w__"
      }
    },
    {
      "cell_type": "code",
      "source": [
        "import numpy as np\n",
        "x = np.array([0,1])\n",
        "w = np.array([0.5,0.5])\n",
        "b = -0.7\n",
        "np.sum(w*x)+b"
      ],
      "metadata": {
        "colab": {
          "base_uri": "https://localhost:8080/"
        },
        "id": "plomO3xM1VH6",
        "outputId": "cdbdf54d-6a34-4289-d403-6445ccb04244"
      },
      "execution_count": null,
      "outputs": [
        {
          "output_type": "execute_result",
          "data": {
            "text/plain": [
              "-0.19999999999999996"
            ]
          },
          "metadata": {},
          "execution_count": 5
        }
      ]
    },
    {
      "cell_type": "code",
      "source": [
        "def ANDwb(x1,x2):\n",
        "  x = np.array([x1,x2])\n",
        "  w = np.array([0.7,0.7])\n",
        "  b = -1\n",
        "  tmp = np.sum(w*x) + b\n",
        "  if tmp>0:\n",
        "    return 1\n",
        "  elif tmp<=0:\n",
        "    return 0"
      ],
      "metadata": {
        "id": "iPTJcGsf2JAz"
      },
      "execution_count": null,
      "outputs": []
    },
    {
      "cell_type": "code",
      "source": [
        "print(ANDwb(0,0))\n",
        "print(ANDwb(1,0))\n",
        "print(ANDwb(0,1))\n",
        "print(ANDwb(1,1))"
      ],
      "metadata": {
        "colab": {
          "base_uri": "https://localhost:8080/"
        },
        "id": "SYCjv8Fw3Rlg",
        "outputId": "a9354866-f731-4c31-8b04-06ecba77739f"
      },
      "execution_count": null,
      "outputs": [
        {
          "output_type": "stream",
          "name": "stdout",
          "text": [
            "0\n",
            "0\n",
            "0\n",
            "1\n"
          ]
        }
      ]
    },
    {
      "cell_type": "code",
      "source": [
        "def NANDwb(x1,x2):\n",
        "  x = np.array([x1,x2])\n",
        "  w = np.array([-0.5,-0.5])\n",
        "  b = 0.7\n",
        "  tmp = np.sum(w*x)+b\n",
        "  if tmp>0:\n",
        "    return 1\n",
        "  elif tmp<=0:\n",
        "    return 0"
      ],
      "metadata": {
        "id": "17QaZfCm3Vgf"
      },
      "execution_count": null,
      "outputs": []
    },
    {
      "cell_type": "code",
      "source": [
        "def ORwb(x1,x2):\n",
        "  x = np.array([x1,x2])\n",
        "  w = np.array([1,1])\n",
        "  b = -0.5\n",
        "  tmp = np.sum(w*x)+b\n",
        "  if tmp>0:\n",
        "    return 1\n",
        "  elif tmp<=0:\n",
        "    return 0"
      ],
      "metadata": {
        "id": "U3obFpz64pf8"
      },
      "execution_count": null,
      "outputs": []
    },
    {
      "cell_type": "code",
      "source": [
        "def XORwb(x1,x2):\n",
        "  s1 = NANDwb(x1,x2)\n",
        "  s2 = ORwb(x1,x2)\n",
        "  result = ANDwb(s1,s2)\n",
        "  return result"
      ],
      "metadata": {
        "id": "TsSxJm-o-T3T"
      },
      "execution_count": null,
      "outputs": []
    },
    {
      "cell_type": "code",
      "source": [
        "print(XORwb(0,0))\n",
        "print(XORwb(1,0))\n",
        "print(XORwb(0,1))\n",
        "print(XORwb(1,1))"
      ],
      "metadata": {
        "colab": {
          "base_uri": "https://localhost:8080/"
        },
        "id": "FX0ZpyCH-_LP",
        "outputId": "6383c4a6-bec1-4af1-a297-bbd3a617fb2a"
      },
      "execution_count": null,
      "outputs": [
        {
          "output_type": "stream",
          "name": "stdout",
          "text": [
            "0\n",
            "1\n",
            "1\n",
            "0\n"
          ]
        }
      ]
    }
  ]
}
