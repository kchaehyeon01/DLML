{
  "nbformat": 4,
  "nbformat_minor": 0,
  "metadata": {
    "colab": {
      "name": "Chapter7_CNN.ipynb",
      "provenance": [],
      "collapsed_sections": [],
      "authorship_tag": "ABX9TyO2+mOz6A1STO+8xIYeSeWr",
      "include_colab_link": true
    },
    "kernelspec": {
      "name": "python3",
      "display_name": "Python 3"
    },
    "language_info": {
      "name": "python"
    }
  },
  "cells": [
    {
      "cell_type": "markdown",
      "metadata": {
        "id": "view-in-github",
        "colab_type": "text"
      },
      "source": [
        "<a href=\"https://colab.research.google.com/github/kchaehyeon01/DLML/blob/main/Chapter7_CNN.ipynb\" target=\"_parent\"><img src=\"https://colab.research.google.com/assets/colab-badge.svg\" alt=\"Open In Colab\"/></a>"
      ]
    },
    {
      "cell_type": "code",
      "source": [
        "import numpy as np"
      ],
      "metadata": {
        "id": "OaxstVU71BkD"
      },
      "execution_count": null,
      "outputs": []
    },
    {
      "cell_type": "code",
      "execution_count": null,
      "metadata": {
        "colab": {
          "base_uri": "https://localhost:8080/"
        },
        "id": "sZXHPWTx0qQQ",
        "outputId": "248d4c1f-edd1-4011-aa33-c5370dfe485e"
      },
      "outputs": [
        {
          "output_type": "stream",
          "name": "stdout",
          "text": [
            "x.shape : (10, 1, 28, 28)\n",
            "x[0].shape : (1, 28, 28)\n",
            "x[1].shape : (1, 28, 28)\n",
            "(28, 28)\n"
          ]
        }
      ],
      "source": [
        "# 4차원 배열\n",
        "x = np.random.rand(10,1,28,28)\n",
        "print(\"x.shape :\", x.shape)\n",
        "print(\"x[0].shape :\", x[0].shape)\n",
        "print(\"x[1].shape :\", x[1].shape)\n",
        "print(x[0][0].shape) # 첫 번째 데이터의 첫 채널의 공간 데이터에 접근"
      ]
    },
    {
      "cell_type": "markdown",
      "source": [
        "# 7.4.3 합성곱 계층 구현하기"
      ],
      "metadata": {
        "id": "-rC811rk25uH"
      }
    },
    {
      "cell_type": "code",
      "source": [
        "# 교재 제공 함수 : https://github.com/WegraLee/deep-learning-from-scratch/blob/master/common/util.py\n",
        "\n",
        "def im2col(input_data, filter_h, filter_w, stride=1, pad=0):\n",
        "    # 다수의 이미지를 입력받아 2차원 배열로 변환한다(평탄화).\n",
        "    N, C, H, W = input_data.shape\n",
        "    out_h = (H + 2*pad - filter_h)//stride + 1\n",
        "    out_w = (W + 2*pad - filter_w)//stride + 1\n",
        "\n",
        "    img = np.pad(input_data, [(0,0), (0,0), (pad, pad), (pad, pad)], 'constant')\n",
        "    col = np.zeros((N, C, filter_h, filter_w, out_h, out_w))\n",
        "\n",
        "    for y in range(filter_h):\n",
        "        y_max = y + stride*out_h\n",
        "        for x in range(filter_w):\n",
        "            x_max = x + stride*out_w\n",
        "            col[:, :, y, x, :, :] = img[:, :, y:y_max:stride, x:x_max:stride]\n",
        "\n",
        "    print(col.shape)\n",
        "\n",
        "    col = col.transpose(0, 4, 5, 1, 2, 3).reshape(N*out_h*out_w, -1)\n",
        "    return col\n",
        "\n",
        "# 합성곱 계층의 역전파 구현 (im2col을 역으로 처리)\n",
        "def col2im(col, input_shape, filter_h, filter_w, stride=1, pad=0):\n",
        "    # (im2col과 반대) 2차원 배열을 입력받아 다수의 이미지 묶음으로 변환한다.\n",
        "    N, C, H, W = input_shape\n",
        "    out_h = (H + 2*pad - filter_h)//stride + 1\n",
        "    out_w = (W + 2*pad - filter_w)//stride + 1\n",
        "    col = col.reshape(N, out_h, out_w, C, filter_h, filter_w).transpose(0, 3, 4, 5, 1, 2)\n",
        "\n",
        "    img = np.zeros((N, C, H + 2*pad + stride - 1, W + 2*pad + stride - 1))\n",
        "    for y in range(filter_h):\n",
        "        y_max = y + stride*out_h\n",
        "        for x in range(filter_w):\n",
        "            x_max = x + stride*out_w\n",
        "            img[:, :, y:y_max:stride, x:x_max:stride] += col[:, :, y, x, :, :]\n",
        "\n",
        "    return img[:, :, pad:H + pad, pad:W + pad]"
      ],
      "metadata": {
        "id": "Smv0vV3E1CXw",
        "cellView": "code"
      },
      "execution_count": null,
      "outputs": []
    },
    {
      "cell_type": "code",
      "source": [
        "x1 = np.random.rand(1,3,7,7) # datanum, channelnum, height, width\n",
        "col1 = im2col(x1,5,5,stride=1,pad=0)\n",
        "print(col1.shape)\n",
        "\n",
        "x2 = np.random.rand(10,3,7,7)\n",
        "col2 = im2col(x2,5,5,stride=1,pad=0)\n",
        "print(col2.shape)"
      ],
      "metadata": {
        "colab": {
          "base_uri": "https://localhost:8080/"
        },
        "id": "Ri7rDntu4oN7",
        "outputId": "41dabded-277b-4b3b-93d6-ee89ddccd63c"
      },
      "execution_count": null,
      "outputs": [
        {
          "output_type": "stream",
          "name": "stdout",
          "text": [
            "(1, 3, 5, 5, 3, 3)\n",
            "(9, 75)\n",
            "(10, 3, 5, 5, 3, 3)\n",
            "(90, 75)\n"
          ]
        }
      ]
    },
    {
      "cell_type": "code",
      "source": [
        "# im2col을 사용하여 합성곱 계층 구현\n",
        "class Convolution:\n",
        "\n",
        "  def __init__(self,W,b,stride=1,pad=0):\n",
        "    self.W = W\n",
        "    self.b = b\n",
        "    self.stride = stride\n",
        "    self.pad = pad\n",
        "    \n",
        "  def forward(self,x):\n",
        "    FN, C, FH, FW = self.W.shape\n",
        "    N, C, H, W = x.shape\n",
        "    out_h = int(1+(H+2*self.pad-FH)/self.stride)\n",
        "    out_w = int(1+(W+2*self.pad-FW)/self.stride)\n",
        "    col = im2col(x,FH,FW,self.stride, self.pad)\n",
        "    col_W = self.W.reshape(FN, -1).T # 필터 전개\n",
        "    out = np.dot(col, col_W) + self.b\n",
        "    out = out.reshape(N, out_h, out_w, -1).transpose(0,3,1,2)\n",
        "    return out\n",
        "\n",
        "  def backward(self, dout):\n",
        "    FN, C, FH, FW = self.W.shape\n",
        "    dout = dout.transpose(0,2,3,1).reshape(-1, FN)\n",
        "    self.db = np.sum(dout, axis=0)\n",
        "    self.dW = np.dot(self.col.T, dout)\n",
        "    self.dW = self.dW.transpose(1, 0).reshape(FN, C, FH, FW)\n",
        "    dcol = np.dot(dout, self.col_W.T)\n",
        "    dx = col2im(dcol, self.x.shape, FH, FW, self.stride, self.pad)\n",
        "    return dx"
      ],
      "metadata": {
        "id": "3ehJGh6Dmdmx"
      },
      "execution_count": null,
      "outputs": []
    },
    {
      "cell_type": "code",
      "source": [
        "class Pooling:\n",
        "  def __init__(self, pool_h, pool_w, stride=1, pad=0):\n",
        "    self.pool_h = pool_h\n",
        "    self.pool_w = pool_w\n",
        "    self.stride = stride\n",
        "    self.pad = pad\n",
        "\n",
        "  def forward(self,x):\n",
        "    N, C, H, W = x.shape\n",
        "    out_h = int(1+(H-self.pool_h)/self.stride)\n",
        "    out_w = int(1+(W-self.pool_w)/self.stride)\n",
        "    # 전개(1)\n",
        "    col = im2col(x,self.pooh_h,self.pool_w,self.stride,self.pad)\n",
        "    col = col.reshape(-1,self.pool_h*self.pool_w)\n",
        "    # 최댓값(2)\n",
        "    out = np.max(col, axis=1)\n",
        "    # 성형(3)\n",
        "    out = out.reshape(N,out_h,out_w,C).transpose(0,3,1,2)\n",
        "    return out\n",
        "\n",
        "  def backward(self, dout):\n",
        "    dout = dout.transpose(0, 2, 3, 1)\n",
        "    pool_size = self.pool_h * self.pool_w\n",
        "    dmax = np.zeros((dout.size, pool_size))\n",
        "    dmax[np.arange(self.arg_max.size), self.arg_max.flatten()] = dout.flatten()\n",
        "    dmax = dmax.reshape(dout.shape + (pool_size,)) \n",
        "    dcol = dmax.reshape(dmax.shape[0] * dmax.shape[1] * dmax.shape[2], -1)\n",
        "    dx = col2im(dcol, self.x.shape, self.pool_h, self.pool_w, self.stride, self.pad)\n",
        "    return dx"
      ],
      "metadata": {
        "id": "iSFeFRwjmd7D"
      },
      "execution_count": null,
      "outputs": []
    },
    {
      "cell_type": "code",
      "source": [
        ""
      ],
      "metadata": {
        "id": "cWSUVAgQO5RP"
      },
      "execution_count": null,
      "outputs": []
    }
  ]
}
