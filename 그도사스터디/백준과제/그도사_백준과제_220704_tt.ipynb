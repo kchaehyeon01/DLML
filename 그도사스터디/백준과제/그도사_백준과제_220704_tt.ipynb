{
  "nbformat": 4,
  "nbformat_minor": 0,
  "metadata": {
    "colab": {
      "name": "그도사_백준과제_220704.ipynb",
      "provenance": [],
      "collapsed_sections": [
        "L22WrmnBu72d",
        "VGUwPNEK7lYW",
        "78goI_7w_OV1",
        "czReKne1AfYz",
        "oBxkikbVJQSy"
      ],
      "authorship_tag": "ABX9TyM3Pmz/NDQYFvBjW/JuvzMi",
      "include_colab_link": true
    },
    "kernelspec": {
      "name": "python3",
      "display_name": "Python 3"
    },
    "language_info": {
      "name": "python"
    }
  },
  "cells": [
    {
      "cell_type": "markdown",
      "metadata": {
        "id": "view-in-github",
        "colab_type": "text"
      },
      "source": [
        "<a href=\"https://colab.research.google.com/github/kchaehyeon01/DL/blob/main/%EA%B7%B8%EB%8F%84%EC%82%AC_%EB%B0%B1%EC%A4%80%EA%B3%BC%EC%A0%9C_220704_tt.ipynb\" target=\"_parent\"><img src=\"https://colab.research.google.com/assets/colab-badge.svg\" alt=\"Open In Colab\"/></a>"
      ]
    },
    {
      "cell_type": "markdown",
      "source": [
        "# #10871 (문제1)\n"
      ],
      "metadata": {
        "id": "L22WrmnBu72d"
      }
    },
    {
      "cell_type": "code",
      "execution_count": null,
      "metadata": {
        "id": "FRKPgUKnuirJ"
      },
      "outputs": [],
      "source": [
        "# 1\n",
        "def fn1():\n",
        "  i1 = input()\n",
        "  i2 = input()\n",
        "  nnx = i1.split()\n",
        "  nums = i2.split()\n",
        "  result = \"\"\n",
        "  for num in nums:\n",
        "    if int(num) < int(nnx[1]):\n",
        "      result += num + \" \"\n",
        "  print(result)\n",
        "\n",
        "fn1()"
      ]
    },
    {
      "cell_type": "code",
      "source": [
        "# 2\n",
        "i1 = input()\n",
        "i2 = input()\n",
        "nnx = i1.split()\n",
        "nums = i2.split()\n",
        "result = \"\"\n",
        "for num in nums:\n",
        "    if int(num) < int(nnx[1]):\n",
        "        result += num + \" \"\n",
        "print(result)"
      ],
      "metadata": {
        "id": "Ik98AMC33FH5"
      },
      "execution_count": null,
      "outputs": []
    },
    {
      "cell_type": "markdown",
      "source": [
        "# #3052 (문제2)"
      ],
      "metadata": {
        "id": "VGUwPNEK7lYW"
      }
    },
    {
      "cell_type": "code",
      "source": [
        "inputs = []\n",
        "remains = []\n",
        "for i in range(10):\n",
        "  inputs.append(input())\n",
        "  remains.append(int(inputs[i])%42)\n",
        "uniquenum = len(list(set(remains)))\n",
        "print(uniquenum)"
      ],
      "metadata": {
        "id": "_B7g-t377lEf"
      },
      "execution_count": null,
      "outputs": []
    },
    {
      "cell_type": "markdown",
      "source": [
        "# #11720 (문제3)"
      ],
      "metadata": {
        "id": "78goI_7w_OV1"
      }
    },
    {
      "cell_type": "code",
      "source": [
        "count = input()\n",
        "nums = input()\n",
        "sum = 0\n",
        "for i in range(int(count)):\n",
        "  sum += int(nums[i])\n",
        "print(sum)"
      ],
      "metadata": {
        "id": "ctaY_DvA90-E"
      },
      "execution_count": null,
      "outputs": []
    },
    {
      "cell_type": "markdown",
      "source": [
        "# #1110 (문제4)"
      ],
      "metadata": {
        "id": "czReKne1AfYz"
      }
    },
    {
      "cell_type": "code",
      "source": [
        "n0 = input()\n",
        "if len(n0)==1: # ** 이걸 n이 아니라 n0에 대해서 넣어야 함 : 안그러면 n0 한 자리인 경우 같을수가 없어짐\n",
        "  n0 = \"0\" + n0\n",
        "n = n0\n",
        "cyc = 0\n",
        "while(True):\n",
        "  r = str(int(n[0]) + int(n[1]))\n",
        "  n = n[-1] + r[-1]\n",
        "  cyc += 1\n",
        "  if n == n0:\n",
        "    print(cyc)\n",
        "    break"
      ],
      "metadata": {
        "colab": {
          "base_uri": "https://localhost:8080/"
        },
        "id": "yElAoO_i_uMO",
        "outputId": "54679d10-7758-4cad-9ae0-68b758bbde1e"
      },
      "execution_count": null,
      "outputs": [
        {
          "output_type": "stream",
          "name": "stdout",
          "text": [
            "55\n",
            "3\n"
          ]
        }
      ]
    },
    {
      "cell_type": "markdown",
      "source": [
        "# #2292 (문제5)"
      ],
      "metadata": {
        "id": "oBxkikbVJQSy"
      }
    },
    {
      "cell_type": "code",
      "source": [
        "# 1-6-12-18-24 : 한겹늘어날때마다방의개수는6의배수로늘어남\n",
        "\n",
        "\n",
        "list(6*)\n",
        "(10**9)//6"
      ],
      "metadata": {
        "colab": {
          "base_uri": "https://localhost:8080/"
        },
        "id": "aPj3c9vgJVCS",
        "outputId": "92e02e54-933a-4a2f-8edf-38c0568ac138"
      },
      "execution_count": null,
      "outputs": [
        {
          "output_type": "execute_result",
          "data": {
            "text/plain": [
              "166666667"
            ]
          },
          "metadata": {},
          "execution_count": 42
        }
      ]
    },
    {
      "cell_type": "markdown",
      "source": [
        "# #5904 (문제12) --> 못 풀었음"
      ],
      "metadata": {
        "id": "ZgMFAaPxM6DB"
      }
    },
    {
      "cell_type": "code",
      "source": [
        "def moo():\n",
        "  n = int(input())\n",
        "  mmm = \"moo\"\n",
        "  k = 0\n",
        "  while(True):\n",
        "    k += 1\n",
        "    mmm = mmm + \"m\" + (k+2) * \"o\" + mmm\n",
        "    print(mmm)\n",
        "    if n<=len(mmm):\n",
        "      break\n",
        "  print(mmm[n-1])\n",
        "\n",
        "moo()"
      ],
      "metadata": {
        "id": "QuEiCWxWLoqe"
      },
      "execution_count": null,
      "outputs": []
    },
    {
      "cell_type": "markdown",
      "source": [
        "여기도도 바꾸면면 반영되냐"
      ],
      "metadata": {
        "id": "dTL9Yvm789st"
      }
    },
    {
      "cell_type": "code",
      "source": [
        ""
      ],
      "metadata": {
        "id": "x4p_xwfl8-n2"
      },
      "execution_count": null,
      "outputs": []
    }
  ]
}
