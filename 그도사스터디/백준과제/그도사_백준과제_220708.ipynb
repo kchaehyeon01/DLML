{
  "nbformat": 4,
  "nbformat_minor": 0,
  "metadata": {
    "colab": {
      "name": "그도사_백준과제_220708.ipynb",
      "provenance": [],
      "collapsed_sections": [
        "L22WrmnBu72d",
        "VGUwPNEK7lYW",
        "78goI_7w_OV1",
        "czReKne1AfYz",
        "oBxkikbVJQSy",
        "pFoTwt9QYScR",
        "e1tsPBsqextG",
        "3r8k8DY2l4GB",
        "0XL3m4Kjz7ou",
        "KE1065pGJxpi",
        "ZgMFAaPxM6DB",
        "Ws_8bmxKRJaq",
        "WlzuciVFzEKu"
      ],
      "authorship_tag": "ABX9TyNJ0lZ34/CGr3A469PPg2SO",
      "include_colab_link": true
    },
    "kernelspec": {
      "name": "python3",
      "display_name": "Python 3"
    },
    "language_info": {
      "name": "python"
    }
  },
  "cells": [
    {
      "cell_type": "markdown",
      "metadata": {
        "id": "view-in-github",
        "colab_type": "text"
      },
      "source": [
        "<a href=\"https://colab.research.google.com/github/kchaehyeon01/DLML/blob/main/%EA%B7%B8%EB%8F%84%EC%82%AC_%EB%B0%B1%EC%A4%80%EA%B3%BC%EC%A0%9C_220708.ipynb\" target=\"_parent\"><img src=\"https://colab.research.google.com/assets/colab-badge.svg\" alt=\"Open In Colab\"/></a>"
      ]
    },
    {
      "cell_type": "markdown",
      "source": [
        "# #10871 (문제1)\n"
      ],
      "metadata": {
        "id": "L22WrmnBu72d"
      }
    },
    {
      "cell_type": "code",
      "execution_count": null,
      "metadata": {
        "id": "FRKPgUKnuirJ"
      },
      "outputs": [],
      "source": [
        "# 1\n",
        "def fn1():\n",
        "  i1 = input()\n",
        "  i2 = input()\n",
        "  nnx = i1.split()\n",
        "  nums = i2.split()\n",
        "  result = \"\"\n",
        "  for num in nums:\n",
        "    if int(num) < int(nnx[1]):\n",
        "      result += num + \" \"\n",
        "  print(result)\n",
        "\n",
        "fn1()"
      ]
    },
    {
      "cell_type": "code",
      "source": [
        "# 2\n",
        "i1 = input()\n",
        "i2 = input()\n",
        "nnx = i1.split()\n",
        "nums = i2.split()\n",
        "result = \"\"\n",
        "for num in nums:\n",
        "    if int(num) < int(nnx[1]):\n",
        "        result += num + \" \"\n",
        "print(result)"
      ],
      "metadata": {
        "id": "Ik98AMC33FH5"
      },
      "execution_count": null,
      "outputs": []
    },
    {
      "cell_type": "markdown",
      "source": [
        "# #3052 (문제2)"
      ],
      "metadata": {
        "id": "VGUwPNEK7lYW"
      }
    },
    {
      "cell_type": "code",
      "source": [
        "inputs = []\n",
        "remains = []\n",
        "for i in range(10):\n",
        "  inputs.append(input())\n",
        "  remains.append(int(inputs[i])%42)\n",
        "uniquenum = len(list(set(remains)))\n",
        "print(uniquenum)"
      ],
      "metadata": {
        "id": "_B7g-t377lEf"
      },
      "execution_count": null,
      "outputs": []
    },
    {
      "cell_type": "markdown",
      "source": [
        "# #11720 (문제3)"
      ],
      "metadata": {
        "id": "78goI_7w_OV1"
      }
    },
    {
      "cell_type": "code",
      "source": [
        "count = input()\n",
        "nums = input()\n",
        "sum = 0\n",
        "for i in range(int(count)):\n",
        "  sum += int(nums[i])\n",
        "print(sum)"
      ],
      "metadata": {
        "id": "ctaY_DvA90-E"
      },
      "execution_count": null,
      "outputs": []
    },
    {
      "cell_type": "markdown",
      "source": [
        "# #1110 (문제4)"
      ],
      "metadata": {
        "id": "czReKne1AfYz"
      }
    },
    {
      "cell_type": "code",
      "source": [
        "n0 = input()\n",
        "if len(n0)==1: # ** 이걸 n이 아니라 n0에 대해서 넣어야 함 : 안그러면 n0 한 자리인 경우 같을수가 없어짐\n",
        "  n0 = \"0\" + n0\n",
        "n = n0\n",
        "cyc = 0\n",
        "while(True):\n",
        "  r = str(int(n[0]) + int(n[1]))\n",
        "  n = n[-1] + r[-1]\n",
        "  cyc += 1\n",
        "  if n == n0:\n",
        "    print(cyc)\n",
        "    break"
      ],
      "metadata": {
        "colab": {
          "base_uri": "https://localhost:8080/"
        },
        "id": "yElAoO_i_uMO",
        "outputId": "54679d10-7758-4cad-9ae0-68b758bbde1e"
      },
      "execution_count": null,
      "outputs": [
        {
          "output_type": "stream",
          "name": "stdout",
          "text": [
            "55\n",
            "3\n"
          ]
        }
      ]
    },
    {
      "cell_type": "markdown",
      "source": [
        "# #2292 (문제5) --> ????"
      ],
      "metadata": {
        "id": "oBxkikbVJQSy"
      }
    },
    {
      "cell_type": "code",
      "source": [
        "# 1-6-12-18-24 : 한겹늘어날때마다방의개수는6의배수로늘어남\n",
        "\n",
        "\n",
        "list(6*)\n",
        "(10**9)//6"
      ],
      "metadata": {
        "colab": {
          "base_uri": "https://localhost:8080/"
        },
        "id": "aPj3c9vgJVCS",
        "outputId": "92e02e54-933a-4a2f-8edf-38c0568ac138"
      },
      "execution_count": null,
      "outputs": [
        {
          "output_type": "execute_result",
          "data": {
            "text/plain": [
              "166666667"
            ]
          },
          "metadata": {},
          "execution_count": 42
        }
      ]
    },
    {
      "cell_type": "markdown",
      "source": [
        "# #2747 (문제6)"
      ],
      "metadata": {
        "id": "0DrQhdJBwvFk"
      }
    },
    {
      "cell_type": "code",
      "source": [
        "def fibonacci():\n",
        "  N = int(input())\n",
        "  fibo = [0,1]\n",
        "  for i in range(2,N+1):\n",
        "    fibo += [fibo[i-2]+fibo[i-1]]\n",
        "  print(fibo[-1])\n",
        "\n",
        "fibonacci()"
      ],
      "metadata": {
        "colab": {
          "base_uri": "https://localhost:8080/"
        },
        "id": "4-jNS2TKwxTv",
        "outputId": "67c9c875-4eb5-41ca-bacb-5bfd7075596a"
      },
      "execution_count": 48,
      "outputs": [
        {
          "output_type": "stream",
          "name": "stdout",
          "text": [
            "10\n",
            "55\n"
          ]
        }
      ]
    },
    {
      "cell_type": "markdown",
      "source": [
        "# #1316 (문제7)"
      ],
      "metadata": {
        "id": "pFoTwt9QYScR"
      }
    },
    {
      "cell_type": "code",
      "source": [
        "def groupnumcounter():\n",
        "  num = int(input())\n",
        "  gwnum = 0\n",
        "  for i in range(num):\n",
        "    word = input()\n",
        "    usedlet = word[0]\n",
        "    for idx in range(1,len(word)):\n",
        "      if usedlet[-1]!=word[idx]:\n",
        "        usedlet += word[idx]\n",
        "    usedlet_unique = list(set(usedlet))\n",
        "    if sorted(usedlet) == sorted(usedlet_unique):\n",
        "      gwnum += 1\n",
        "  print(gwnum)\n",
        "\n",
        "groupnumcounter()"
      ],
      "metadata": {
        "id": "BCE3bZinYVSQ"
      },
      "execution_count": null,
      "outputs": []
    },
    {
      "cell_type": "markdown",
      "source": [
        "# #11653 (문제8)\n",
        "\n",
        "백준준 어떤떤 사람람 코드인데데,\n",
        "int(n**0.5)+1의의 의미는는 무엇인지지?\n",
        "내내 코드는는 시간이이 오래래 걸렸\n",
        "\n",
        "n = int(input())\n",
        "for i in range(2, int(n**0.5)+1):\n",
        "    while n % i == 0:\n",
        "        n = n // i\n",
        "        print(i)\n",
        "if n > 1:\n",
        "    print(n)"
      ],
      "metadata": {
        "id": "e1tsPBsqextG"
      }
    },
    {
      "cell_type": "code",
      "source": [
        "def factorization():\n",
        "  num = int(input())\n",
        "  numdiv = num\n",
        "  denom = 2\n",
        "  while True:\n",
        "    if numdiv == 1:\n",
        "        break\n",
        "    else:\n",
        "      if numdiv % denom == 0:\n",
        "        print(denom)\n",
        "        numdiv = numdiv/denom\n",
        "      else:\n",
        "        denom += 1\n",
        "\n",
        "factorization()"
      ],
      "metadata": {
        "id": "l5TXVqtEe6mG"
      },
      "execution_count": null,
      "outputs": []
    },
    {
      "cell_type": "markdown",
      "source": [
        "# #1213 (문제9) -> 못못"
      ],
      "metadata": {
        "id": "3r8k8DY2l4GB"
      }
    },
    {
      "cell_type": "code",
      "source": [
        "def palindrome():\n",
        "  lets = sorted(list(input())) # 받은 단어 각 글자를 리스트로 저장\n",
        "  lets_uni = sorted(list(set(lets)))\n",
        "  letsnum = []\n",
        "  for let_uni in lets_uni:\n",
        "    letnum = lets.count(let_uni)\n",
        "    letsnum += let_uni + str(letnum)\n",
        "\n",
        "  if len(lets)%2 == 0: # 짝수 길이\n",
        "    for num in letsnum[1::2]: # 다 짝수개인지 확인\n",
        "      if (int(num)%2)!=0:\n",
        "        print(\"I'm Sorry Hansoo\")\n",
        "        break\n",
        "      palindrome = \"\"\n",
        "      for i in range(int(len(letsnum)/2)):\n",
        "        palindrome += int(int(letsnum[i*2+1])/2)*letsnum[i*2]\n",
        "        palindrome += palindrome[::-1]\n",
        "      print(palindrome)\n",
        "      \n",
        "  else: # 홀수 길이\n",
        "    oddnum = 0 # 홀수개 하나만 있는지 확인\n",
        "    for i in range(len(letsnum)/2):\n",
        "      if int(letsnum[i+1])%2 != 0:\n",
        "        oddnum += 1\n",
        "    if oddnum != 1:\n",
        "      print(\"I'm Sorry Hansoo\")\n",
        "    else:\n",
        "      palindrome = \"\"\n",
        "      odd = \"\"\n",
        "      for i in range(len(letsnum)/2):\n",
        "        if int(i+1)%2 != 0:\n",
        "          odd = letsnum[i]\n",
        "          letsnum[i+1] -= 1\n",
        "      for i in range(len(letsnum)/2):\n",
        "        palindrome += int(int(letsnum[i*2+1])/2)*letsnum[i*2]\n",
        "        palindrome += palindrome[::-1]\n",
        "        palindrome.insert(int(len(palindrome)/2),odd)\n",
        "      print(palindrome)\n",
        "\n",
        "\n",
        "palindrome()"
      ],
      "metadata": {
        "colab": {
          "base_uri": "https://localhost:8080/"
        },
        "id": "vevoRWUM-Jvk",
        "outputId": "283544ac-2881-43d4-dcf4-1e25f22fc031"
      },
      "execution_count": 24,
      "outputs": [
        {
          "output_type": "stream",
          "name": "stdout",
          "text": [
            "asdfasfsdjfhksjadhfjak\n",
            "aaaaddaaaaffffaaaaddaaaahhaaaaddaaaaffffaaaaddaaaajjaaaaddaaaaffffaaaaddaaaahhaaaaddaaaaffffaaaaddaaaakkaaaaddaaaaffffaaaaddaaaahhaaaaddaaaaffffaaaaddaaaajjaaaaddaaaaffffaaaaddaaaahhaaaaddaaaaffffaaaaddaaaassssaaaaddaaaaffffaaaaddaaaahhaaaaddaaaaffffaaaaddaaaajjaaaaddaaaaffffaaaaddaaaahhaaaaddaaaaffffaaaaddaaaakkaaaaddaaaaffffaaaaddaaaahhaaaaddaaaaffffaaaaddaaaajjaaaaddaaaaffffaaaaddaaaahhaaaaddaaaaffffaaaaddaaaa\n",
            "I'm Sorry Hansoo\n"
          ]
        }
      ]
    },
    {
      "cell_type": "code",
      "source": [
        "def palindrome():\n",
        "  word = input()\n",
        "  letters = sorted(list(word))\n",
        "  lettersuniq = list(set(letters))\n",
        "  letterscount = {}\n",
        "  for letter in lettersuniq:\n",
        "    letterscount[letter] = letters.count(letter)\n",
        "  values = letterscount.values()\n",
        "\n",
        "  if len(word)%2 == 0: # 짝수길이\n",
        "    for value in values:\n",
        "      if value%2!=0:\n",
        "        print(\"I'm Sorry Hansoo\")\n",
        "      else: # palindrome 만들어서 출력\n",
        "\n",
        "  else: # 홀수 길\n",
        "    hol = 0\n",
        "    for value in values:\n",
        "      if value%2!=0:\n",
        "        hol+=1\n",
        "        if hol > 1:\n",
        "          print(\"I'm Sorry Hansoo\")\n",
        "    # palindrome 만들기\n",
        "  \n",
        "\n",
        "palindrome()\n",
        "\n",
        "# 만약 불가능할 때는 \"I'm Sorry Hansoo\"를 출력한다. \n",
        "# 짝수개면 짝수개 있어야야\n",
        "# 홀수개면면 홀수개개 하나나 있어도도 됨\n",
        "# 정답이 여러 개일 경우에는 사전순으로 앞서는 것을 출력한다."
      ],
      "metadata": {
        "id": "R0C1lbQyl3cw"
      },
      "execution_count": null,
      "outputs": []
    },
    {
      "cell_type": "markdown",
      "source": [
        ""
      ],
      "metadata": {
        "id": "fh36_RVMwauw"
      }
    },
    {
      "cell_type": "markdown",
      "source": [
        "# # (문제10) --> 못"
      ],
      "metadata": {
        "id": "0XL3m4Kjz7ou"
      }
    },
    {
      "cell_type": "code",
      "source": [
        "def hanoi():\n",
        "  N = int(input())\n",
        "  k = 0\n",
        "  p1 = list(range(N))[::-1]\n",
        "  p2 = []\n",
        "  p3 = []\n",
        "  recs = []\n",
        "  while True:\n",
        "    \n",
        "    \n",
        "    if len(p3) == N:\n",
        "      break\n",
        "\n",
        "  print(k)\n",
        "  for rec in recs:\n",
        "    print(rec)"
      ],
      "metadata": {
        "id": "RQnQNbN-z9-_"
      },
      "execution_count": null,
      "outputs": []
    },
    {
      "cell_type": "markdown",
      "source": [
        "# #1929 (문제11) --> 시간초과"
      ],
      "metadata": {
        "id": "KE1065pGJxpi"
      }
    },
    {
      "cell_type": "code",
      "source": [
        "def prime():\n",
        "  MnN = input().split()\n",
        "  M = int(MnN[0])\n",
        "  N = int(MnN[1])\n",
        "  numlist = []\n",
        "\n",
        "  for i in range(M,N+1):\n",
        "    prime = \"yes\"\n",
        "    for j in range(2,i):\n",
        "      if i%j == 0:\n",
        "        prime = \"no\"\n",
        "    if prime == \"yes\":\n",
        "      numlist += [i]\n",
        "\n",
        "  for num in numlist:\n",
        "    print(num)\n",
        "\n",
        "prime()"
      ],
      "metadata": {
        "colab": {
          "base_uri": "https://localhost:8080/"
        },
        "id": "rl9tb3bvJ06c",
        "outputId": "e66214e6-fe94-4fd7-9859-240ae45cc4ba"
      },
      "execution_count": 93,
      "outputs": [
        {
          "output_type": "stream",
          "name": "stdout",
          "text": [
            "3 16\n",
            "3\n",
            "5\n",
            "7\n",
            "11\n",
            "13\n"
          ]
        }
      ]
    },
    {
      "cell_type": "markdown",
      "source": [
        "# #5904 (문제12) --> 메모리 초과"
      ],
      "metadata": {
        "id": "ZgMFAaPxM6DB"
      }
    },
    {
      "cell_type": "code",
      "source": [
        "def moo():\n",
        "  n = int(input())\n",
        "  mmm = \"moo\"\n",
        "  k = 0\n",
        "  while(True):\n",
        "    k += 1\n",
        "    mmm = mmm + \"m\" + (k+2) * \"o\" + mmm\n",
        "    if n<=len(mmm):\n",
        "      break\n",
        "  print(mmm[n-1])\n",
        "\n",
        "moo()"
      ],
      "metadata": {
        "id": "QuEiCWxWLoqe",
        "colab": {
          "base_uri": "https://localhost:8080/"
        },
        "outputId": "ea919f56-06a7-416b-877a-da8f95209552"
      },
      "execution_count": 94,
      "outputs": [
        {
          "output_type": "stream",
          "name": "stdout",
          "text": [
            "11\n",
            "moomooomoo\n",
            "moomooomoomoooomoomooomoo\n",
            "m\n"
          ]
        }
      ]
    },
    {
      "cell_type": "markdown",
      "source": [
        "# #1011 (문제13) \n",
        ": 그럼럼 0이이 아닌닌 곳에서서 시작하면면 걔는는 어떻게게 조작작 범위를를 알알 수수 있는지지? 얘를를 알아내는거까지지 문제에에 포함입니까까?"
      ],
      "metadata": {
        "id": "Ws_8bmxKRJaq"
      }
    },
    {
      "cell_type": "code",
      "source": [
        "def minop():\n",
        "  cnum = int(input())\n",
        "  for t in range(cnum):\n",
        "    case = input().split()\n",
        "    start = case[0]\n",
        "    end = case[1]\n",
        "\n",
        "minop()"
      ],
      "metadata": {
        "id": "dIewmDNlQ2ND"
      },
      "execution_count": null,
      "outputs": []
    },
    {
      "cell_type": "markdown",
      "source": [
        "# #2447 (문제14) --> 재귀?"
      ],
      "metadata": {
        "id": "WlzuciVFzEKu"
      }
    },
    {
      "cell_type": "code",
      "source": [
        "import numpy as np\n",
        "import math\n",
        "def stars():\n",
        "  n = int(input())\n",
        "  k = int(math.log(n)/math.log(3))\n",
        "  stars = []\n",
        "  for i in range(n):\n",
        "    stars += \"*\"*n\n",
        "  stars = np.array(stars)\n",
        "  stars = np.reshape(stars,(n,n))\n",
        "  while (k>0):\n",
        "    for row in range(3**(k-1),2*3**(k-1)):\n",
        "      for col in range(3**(k-1),2*3**(k-1)):\n",
        "        stars[row,col] = \" \"\n",
        "    k -= 1\n",
        "    if k == 0:\n",
        "      break\n",
        "  for star_row in stars:\n",
        "    star_row = \"\".join(star for star in star_row)\n",
        "    print(star_row)\n",
        "\n",
        "stars()"
      ],
      "metadata": {
        "colab": {
          "base_uri": "https://localhost:8080/"
        },
        "id": "dAXnEZrXzGMW",
        "outputId": "aa4614b8-c631-41f5-ed8f-41a214913d1c"
      },
      "execution_count": 89,
      "outputs": [
        {
          "output_type": "stream",
          "name": "stdout",
          "text": [
            "27\n",
            "***************************\n",
            "* *************************\n",
            "***************************\n",
            "***   *********************\n",
            "***   *********************\n",
            "***   *********************\n",
            "***************************\n",
            "***************************\n",
            "***************************\n",
            "*********         *********\n",
            "*********         *********\n",
            "*********         *********\n",
            "*********         *********\n",
            "*********         *********\n",
            "*********         *********\n",
            "*********         *********\n",
            "*********         *********\n",
            "*********         *********\n",
            "***************************\n",
            "***************************\n",
            "***************************\n",
            "***************************\n",
            "***************************\n",
            "***************************\n",
            "***************************\n",
            "***************************\n",
            "***************************\n"
          ]
        }
      ]
    },
    {
      "cell_type": "code",
      "source": [
        ""
      ],
      "metadata": {
        "id": "WjmUG9xFlp4o"
      },
      "execution_count": null,
      "outputs": []
    }
  ]
}
